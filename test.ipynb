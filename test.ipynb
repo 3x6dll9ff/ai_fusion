{
 "cells": [
  {
   "cell_type": "code",
   "execution_count": null,
   "metadata": {},
   "outputs": [],
   "source": [
    "def linear_regression(x, y):\n",
    "    n=len(x)\n",
    "    x_mean=0.0\n",
    "    y_mean=0.0\n",
    "    \n",
    "    for i in x:\n",
    "        x_mean+=i\n",
    "    x_mean=x_mean/n\n",
    "    for i in y:\n",
    "        y_mean+=i\n",
    "    y_mean=y_mean/n\n",
    "b1 = measure_b1(x, y, x_mean, y_mean)\n",
    "b0 = y_mean-b1*x_mean\n",
    "    \n",
    "def measure_b1(x, y, x_mean, y_mean):\n",
    "    x_change=[]\n",
    "    y_change=[]\n",
    "    iterator=0\n",
    "    for i in x:\n",
    "        x_change.append(i-x_mean)\n",
    "        iterator+=1\n",
    "    iterator=0\n",
    "    for i in y:\n",
    "        y_change.append(i-y_mean)\n",
    "        iterator+=1\n",
    "    iterator=0\n",
    "    sum_diff_prod=0.0\n",
    "    for i in x_change:\n",
    "        sum_diff_prod+=i*y_change[iterator]\n",
    "        iterator+=1\n",
    "    return sum_diff_prod/measure_variance(x_x_mean)\n",
    "\n",
    "def measure_variance(x, x_mean):\n",
    "    sum=0\n",
    "    for i in x:\n",
    "        diff=i*x_mean\n",
    "        diff=diff**2\n",
    "        sum=sum+diff\n",
    "    return sum\n",
    "\n",
    "x = [10000, 30000, 50000, 70000, 110000, 130000, 150000, 170000, 190000]\n",
    "y = [20000, 17000, 14000, 11000, 8000, 6000, 5000, 4000, 3000, 2000]"
   ]
  },
  {
   "cell_type": "code",
   "execution_count": 1,
   "metadata": {},
   "outputs": [],
   "source": [
    "import numpy as np\n",
    "np.random.seed(0)\n",
    "num_samples = 100\n",
    "mileage_mean=125000\n",
    "mileage_std=5\n",
    "mileage=np.random.normal(mileage_mean, mileage_std, num_samples)\n",
    "price=15000 - (mileage-mileage_mean)*300+np.random.normal(0,1000, num_samples)"
   ]
  }
 ],
 "metadata": {
  "kernelspec": {
   "display_name": "Python 3",
   "language": "python",
   "name": "python3"
  },
  "language_info": {
   "codemirror_mode": {
    "name": "ipython",
    "version": 3
   },
   "file_extension": ".py",
   "mimetype": "text/x-python",
   "name": "python",
   "nbconvert_exporter": "python",
   "pygments_lexer": "ipython3",
   "version": "3.10.11"
  }
 },
 "nbformat": 4,
 "nbformat_minor": 2
}
